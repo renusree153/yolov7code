{
 "cells": [
  {
   "cell_type": "code",
   "execution_count": 1,
   "metadata": {},
   "outputs": [],
   "source": [
    "import os\n",
    "import numpy\n",
    "import sys\n",
    "import pandas as pd"
   ]
  },
  {
   "cell_type": "code",
   "execution_count": 2,
   "metadata": {},
   "outputs": [],
   "source": [
    "ALL_DATA_PATH = \"/home/paolobif/Lab-Work/ml/pre_arch/worm_data/\"\n",
    "compiled_8_9 = os.path.join(ALL_DATA_PATH, \"compiled_8_9\")\n",
    "compiled_11_20 = os.path.join(ALL_DATA_PATH, \"compiled_11_20\")\n",
    "compiled_10_14 = os.path.join(ALL_DATA_PATH, \"compiled_10_14\")"
   ]
  },
  {
   "cell_type": "code",
   "execution_count": 3,
   "metadata": {},
   "outputs": [
    {
     "name": "stdout",
     "output_type": "stream",
     "text": [
      "['compiled_11_20.csv', 'combined_10_14.csv', 'combined_10_6.csv', 'combined.csv', 'compiled_8_9.csv']\n"
     ]
    }
   ],
   "source": [
    "## paths for working data\n",
    "all_imgs_path = os.path.join(ALL_DATA_PATH, \"all_data_1_5_21/imgs\")\n",
    "idv_csv_path = os.path.join(ALL_DATA_PATH, \"all_data_1_5_21/individual_csvs\")\n",
    "csv_names = os.listdir(idv_csv_path)\n",
    "print(csv_names)"
   ]
  },
  {
   "cell_type": "code",
   "execution_count": 4,
   "metadata": {},
   "outputs": [],
   "source": [
    "combined_df = pd.read_csv(idv_csv_path + \"/\" + csv_names[3], header=None, )\n",
    "combined_df = combined_df.drop_duplicates()\n",
    "\n",
    "combined_10_6_df = pd.read_csv(idv_csv_path + \"/\" + csv_names[2], header=None, index_col=False)\n",
    "combined_10_6_df = combined_10_6_df.drop_duplicates()\n",
    "\n",
    "combined_10_14_df = pd.read_csv(idv_csv_path + \"/\" + csv_names[1], header=None, index_col=False)\n",
    "combined_10_14_df = combined_10_14_df.drop_duplicates()\n",
    "\n",
    "combined_8_9_df = pd.read_csv(idv_csv_path + \"/\" + csv_names[4], header=None, index_col=False)\n",
    "combined_8_9_df = combined_8_9_df.drop_duplicates()\n",
    "\n",
    "combined_11_20_df = pd.read_csv(idv_csv_path + \"/\" + csv_names[0], header=None, index_col=False)\n",
    "combined_11_20_df = combined_11_20_df.drop_duplicates()\n",
    "\n",
    "dfs = [combined_df, combined_10_6_df, combined_10_14_df, combined_8_9_df, combined_11_20_df]"
   ]
  },
  {
   "cell_type": "code",
   "execution_count": 8,
   "metadata": {},
   "outputs": [],
   "source": [
    "all_df = pd.concat(dfs)\n",
    "all_df = all_df.drop_duplicates()\n",
    "\n",
    "all_df.to_csv((idv_csv_path + \"/../all_data_1_5_21.csv\"), header=None, index=None, index_label=None)"
   ]
  },
  {
   "cell_type": "code",
   "execution_count": 9,
   "metadata": {},
   "outputs": [
    {
     "data": {
      "text/html": [
       "<div>\n",
       "<style scoped>\n",
       "    .dataframe tbody tr th:only-of-type {\n",
       "        vertical-align: middle;\n",
       "    }\n",
       "\n",
       "    .dataframe tbody tr th {\n",
       "        vertical-align: top;\n",
       "    }\n",
       "\n",
       "    .dataframe thead th {\n",
       "        text-align: right;\n",
       "    }\n",
       "</style>\n",
       "<table border=\"1\" class=\"dataframe\">\n",
       "  <thead>\n",
       "    <tr style=\"text-align: right;\">\n",
       "      <th></th>\n",
       "      <th>0</th>\n",
       "      <th>1</th>\n",
       "      <th>2</th>\n",
       "      <th>3</th>\n",
       "      <th>4</th>\n",
       "    </tr>\n",
       "  </thead>\n",
       "  <tbody>\n",
       "    <tr>\n",
       "      <th>0</th>\n",
       "      <td>exp657_random4.png</td>\n",
       "      <td>907.527904</td>\n",
       "      <td>221.403884</td>\n",
       "      <td>59.272879</td>\n",
       "      <td>19.354409</td>\n",
       "    </tr>\n",
       "    <tr>\n",
       "      <th>1</th>\n",
       "      <td>exp657_random4.png</td>\n",
       "      <td>977.687638</td>\n",
       "      <td>399.222520</td>\n",
       "      <td>66.530782</td>\n",
       "      <td>20.564060</td>\n",
       "    </tr>\n",
       "    <tr>\n",
       "      <th>2</th>\n",
       "      <td>exp657_random4.png</td>\n",
       "      <td>1078.088636</td>\n",
       "      <td>407.690074</td>\n",
       "      <td>42.337770</td>\n",
       "      <td>20.564060</td>\n",
       "    </tr>\n",
       "    <tr>\n",
       "      <th>3</th>\n",
       "      <td>exp657_random4.png</td>\n",
       "      <td>1137.361515</td>\n",
       "      <td>398.012869</td>\n",
       "      <td>22.983361</td>\n",
       "      <td>42.337770</td>\n",
       "    </tr>\n",
       "    <tr>\n",
       "      <th>4</th>\n",
       "      <td>exp657_random4.png</td>\n",
       "      <td>1131.313262</td>\n",
       "      <td>441.560290</td>\n",
       "      <td>45.966722</td>\n",
       "      <td>32.660566</td>\n",
       "    </tr>\n",
       "    <tr>\n",
       "      <th>...</th>\n",
       "      <td>...</td>\n",
       "      <td>...</td>\n",
       "      <td>...</td>\n",
       "      <td>...</td>\n",
       "      <td>...</td>\n",
       "    </tr>\n",
       "    <tr>\n",
       "      <th>8453</th>\n",
       "      <td>exp346_3.png</td>\n",
       "      <td>397</td>\n",
       "      <td>247</td>\n",
       "      <td>25</td>\n",
       "      <td>47</td>\n",
       "    </tr>\n",
       "    <tr>\n",
       "      <th>8454</th>\n",
       "      <td>exp346_3.png</td>\n",
       "      <td>443</td>\n",
       "      <td>606</td>\n",
       "      <td>62</td>\n",
       "      <td>38</td>\n",
       "    </tr>\n",
       "    <tr>\n",
       "      <th>8455</th>\n",
       "      <td>exp346_3.png</td>\n",
       "      <td>906</td>\n",
       "      <td>461</td>\n",
       "      <td>42</td>\n",
       "      <td>28</td>\n",
       "    </tr>\n",
       "    <tr>\n",
       "      <th>8456</th>\n",
       "      <td>exp346_3.png</td>\n",
       "      <td>931</td>\n",
       "      <td>145</td>\n",
       "      <td>41</td>\n",
       "      <td>23</td>\n",
       "    </tr>\n",
       "    <tr>\n",
       "      <th>8457</th>\n",
       "      <td>exp346_3.png</td>\n",
       "      <td>1432</td>\n",
       "      <td>785</td>\n",
       "      <td>27</td>\n",
       "      <td>25</td>\n",
       "    </tr>\n",
       "  </tbody>\n",
       "</table>\n",
       "<p>51842 rows × 5 columns</p>\n",
       "</div>"
      ],
      "text/plain": [
       "                       0            1           2          3          4\n",
       "0     exp657_random4.png   907.527904  221.403884  59.272879  19.354409\n",
       "1     exp657_random4.png   977.687638  399.222520  66.530782  20.564060\n",
       "2     exp657_random4.png  1078.088636  407.690074  42.337770  20.564060\n",
       "3     exp657_random4.png  1137.361515  398.012869  22.983361  42.337770\n",
       "4     exp657_random4.png  1131.313262  441.560290  45.966722  32.660566\n",
       "...                  ...          ...         ...        ...        ...\n",
       "8453        exp346_3.png          397         247         25         47\n",
       "8454        exp346_3.png          443         606         62         38\n",
       "8455        exp346_3.png          906         461         42         28\n",
       "8456        exp346_3.png          931         145         41         23\n",
       "8457        exp346_3.png         1432         785         27         25\n",
       "\n",
       "[51842 rows x 5 columns]"
      ]
     },
     "execution_count": 9,
     "metadata": {},
     "output_type": "execute_result"
    }
   ],
   "source": [
    "all_df"
   ]
  },
  {
   "cell_type": "code",
   "execution_count": null,
   "metadata": {},
   "outputs": [],
   "source": []
  },
  {
   "cell_type": "code",
   "execution_count": null,
   "metadata": {},
   "outputs": [],
   "source": []
  },
  {
   "cell_type": "code",
   "execution_count": null,
   "metadata": {},
   "outputs": [],
   "source": []
  }
 ],
 "metadata": {
  "kernelspec": {
   "display_name": "Python 3",
   "language": "python",
   "name": "python3"
  },
  "language_info": {
   "codemirror_mode": {
    "name": "ipython",
    "version": 3
   },
   "file_extension": ".py",
   "mimetype": "text/x-python",
   "name": "python",
   "nbconvert_exporter": "python",
   "pygments_lexer": "ipython3",
   "version": "3.9.7"
  }
 },
 "nbformat": 4,
 "nbformat_minor": 4
}
