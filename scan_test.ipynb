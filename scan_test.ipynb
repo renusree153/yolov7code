{
 "cells": [
  {
   "cell_type": "code",
   "execution_count": 6,
   "metadata": {},
   "outputs": [
    {
     "ename": "ModuleNotFoundError",
     "evalue": "No module named 'loader_utils'",
     "output_type": "error",
     "traceback": [
      "\u001b[0;31m---------------------------------------------------------------------------\u001b[0m",
      "\u001b[0;31mModuleNotFoundError\u001b[0m                       Traceback (most recent call last)",
      "\u001b[0;32m<ipython-input-6-0b7b1945486e>\u001b[0m in \u001b[0;36m<module>\u001b[0;34m\u001b[0m\n\u001b[1;32m      8\u001b[0m \u001b[0;32mimport\u001b[0m \u001b[0margparse\u001b[0m\u001b[0;34m\u001b[0m\u001b[0;34m\u001b[0m\u001b[0m\n\u001b[1;32m      9\u001b[0m \u001b[0;32mfrom\u001b[0m \u001b[0mtqdm\u001b[0m \u001b[0;32mimport\u001b[0m \u001b[0mtqdm\u001b[0m\u001b[0;34m\u001b[0m\u001b[0;34m\u001b[0m\u001b[0m\n\u001b[0;32m---> 10\u001b[0;31m \u001b[0;32mfrom\u001b[0m \u001b[0mloader_utils\u001b[0m \u001b[0;32mimport\u001b[0m \u001b[0;34m*\u001b[0m\u001b[0;34m\u001b[0m\u001b[0;34m\u001b[0m\u001b[0m\n\u001b[0m\u001b[1;32m     11\u001b[0m \u001b[0;32mfrom\u001b[0m \u001b[0mmatplotlib\u001b[0m \u001b[0;32mimport\u001b[0m \u001b[0mpyplot\u001b[0m \u001b[0;32mas\u001b[0m \u001b[0mplt\u001b[0m\u001b[0;34m\u001b[0m\u001b[0;34m\u001b[0m\u001b[0m\n\u001b[1;32m     12\u001b[0m \u001b[0;32mimport\u001b[0m \u001b[0mmatplotlib\u001b[0m\u001b[0;34m.\u001b[0m\u001b[0mpatches\u001b[0m \u001b[0;32mas\u001b[0m \u001b[0mpatches\u001b[0m\u001b[0;34m\u001b[0m\u001b[0;34m\u001b[0m\u001b[0m\n",
      "\u001b[0;31mModuleNotFoundError\u001b[0m: No module named 'loader_utils'"
     ]
    }
   ],
   "source": [
    "%matplotlib inline\n",
    "import cv2\n",
    "import csv\n",
    "import os\n",
    "import numpy as np\n",
    "import pandas as pd\n",
    "import random\n",
    "import argparse\n",
    "from tqdm import tqdm\n",
    "from loader_utils import *\n",
    "from matplotlib import pyplot as plt\n",
    "import matplotlib.patches as patches\n",
    "\n",
    "#plt.rcParams['figure.figsize'] = [10,10]\n"
   ]
  },
  {
   "cell_type": "code",
   "execution_count": null,
   "metadata": {},
   "outputs": [],
   "source": [
    "CSV_PATH = \"/home/paolobif/Lab-Work/ml/pre_arch/worm_data/compiled_11_20/compiled_11_20.csv\"\n",
    "IMAGE_PATH = \"/home/paolobif/Lab-Work/ml/pre_arch/worm_data/compiled_11_20/NN_posttrain_2_im/\"\n",
    "\n",
    "# load image names\n",
    "# load csv\n",
    "image_names = os.listdir(IMAGE_PATH)\n",
    "csv_ar = load_csv(CSV_PATH)\n"
   ]
  },
  {
   "cell_type": "code",
   "execution_count": null,
   "metadata": {},
   "outputs": [],
   "source": [
    "image_ar = cv2.imread(f\"{IMAGE_PATH}{image_names[1]}\")\n",
    "image_ar_2 = cv2.imread(f\"{IMAGE_PATH}{image_names[2]}\")\n",
    "np_im = np.array(image_ar)\n",
    "plt.imshow(np_im)\n",
    "plt.show()\n",
    "\n",
    "df = pd.DataFrame(csv_ar)\n",
    "df.loc[: , 1:4] = df.loc[: , 1:4].astype(float)\n",
    "#df[1:] = df[1:].astype(float)\n",
    "#print(df.loc[:, 0])"
   ]
  },
  {
   "cell_type": "code",
   "execution_count": null,
   "metadata": {},
   "outputs": [],
   "source": [
    "## test image from orignal csv not compiled ##\n",
    "im_test = image_names[4]\n",
    "base_im_test = im_test.split(\".png\")[0]\n",
    "print(base_im_test)\n",
    "\n",
    "full_im_test = cv2.imread(f\"{IMAGE_PATH}{im_test}\")\n",
    "\n",
    "csv = f\"../worm_data/test/test_csv/{base_im_test}_annotated.csv\"\n",
    "test_ar = load_csv(csv)\n",
    "test_ar.remove(test_ar[0])\n",
    "for row in test_ar:\n",
    "    x,y,w,h = row[3:]\n",
    "    x,y,w,h = int(x), int(y), int(w), int(h)\n",
    "    x2 = x + w\n",
    "    y2 = y + h\n",
    "    \n",
    "    cv2.rectangle(full_im_test, (x,y), (x2, y2), (255,255,0))\n",
    "    \n",
    "    #print(cords)\n",
    "        \n",
    "\n",
    "plt.imshow(full_im_test)\n",
    "print(csv)"
   ]
  },
  {
   "cell_type": "code",
   "execution_count": 7,
   "metadata": {},
   "outputs": [
    {
     "ename": "NameError",
     "evalue": "name 'csv_ar' is not defined",
     "output_type": "error",
     "traceback": [
      "\u001b[0;31m---------------------------------------------------------------------------\u001b[0m",
      "\u001b[0;31mNameError\u001b[0m                                 Traceback (most recent call last)",
      "\u001b[0;32m<ipython-input-7-0518adefa7e1>\u001b[0m in \u001b[0;36m<module>\u001b[0;34m\u001b[0m\n\u001b[1;32m     13\u001b[0m     \u001b[0mpickle_out\u001b[0m\u001b[0;34m.\u001b[0m\u001b[0mclose\u001b[0m\u001b[0;34m(\u001b[0m\u001b[0;34m)\u001b[0m\u001b[0;34m\u001b[0m\u001b[0;34m\u001b[0m\u001b[0m\n\u001b[1;32m     14\u001b[0m \u001b[0;34m\u001b[0m\u001b[0m\n\u001b[0;32m---> 15\u001b[0;31m \u001b[0mformat_data2\u001b[0m\u001b[0;34m(\u001b[0m\u001b[0mcsv_ar\u001b[0m\u001b[0;34m)\u001b[0m\u001b[0;34m\u001b[0m\u001b[0;34m\u001b[0m\u001b[0m\n\u001b[0m\u001b[1;32m     16\u001b[0m \u001b[0;31m#print(dict_data.popitem())\u001b[0m\u001b[0;34m\u001b[0m\u001b[0;34m\u001b[0m\u001b[0m\n\u001b[1;32m     17\u001b[0m \u001b[0;31m#print(len(dict_data.keys()))\u001b[0m\u001b[0;34m\u001b[0m\u001b[0;34m\u001b[0m\u001b[0m\n",
      "\u001b[0;31mNameError\u001b[0m: name 'csv_ar' is not defined"
     ]
    }
   ],
   "source": [
    "import pickle\n",
    "from collections import defaultdict\n",
    "\n",
    "def format_data2(csv_ar):\n",
    "    df_dict = defaultdict(list)\n",
    "    \n",
    "    for row in csv_ar:\n",
    "        cords = list(map(float, row[1:]))\n",
    "        df_dict[row[0]].append(cords)\n",
    "    \n",
    "    pickle_out = open(\"test.pickle\", \"wb\")\n",
    "    pickle.dump(df_dict, pickle_out)\n",
    "    pickle_out.close()\n",
    "\n",
    "format_data2(csv_ar)\n",
    "#print(dict_data.popitem())\n",
    "#print(len(dict_data.keys()))\n"
   ]
  },
  {
   "cell_type": "code",
   "execution_count": null,
   "metadata": {},
   "outputs": [],
   "source": []
  },
  {
   "cell_type": "code",
   "execution_count": 8,
   "metadata": {},
   "outputs": [
    {
     "ename": "FileNotFoundError",
     "evalue": "[Errno 2] No such file or directory: 'test.pickle'",
     "output_type": "error",
     "traceback": [
      "\u001b[0;31m---------------------------------------------------------------------------\u001b[0m",
      "\u001b[0;31mFileNotFoundError\u001b[0m                         Traceback (most recent call last)",
      "\u001b[0;32m<ipython-input-8-b67bf8163308>\u001b[0m in \u001b[0;36m<module>\u001b[0;34m\u001b[0m\n\u001b[0;32m----> 1\u001b[0;31m \u001b[0mpickle_in\u001b[0m \u001b[0;34m=\u001b[0m \u001b[0mopen\u001b[0m\u001b[0;34m(\u001b[0m\u001b[0;34m\"test.pickle\"\u001b[0m\u001b[0;34m,\u001b[0m \u001b[0;34m\"rb\"\u001b[0m\u001b[0;34m)\u001b[0m\u001b[0;34m\u001b[0m\u001b[0;34m\u001b[0m\u001b[0m\n\u001b[0m\u001b[1;32m      2\u001b[0m \u001b[0mordered_dict\u001b[0m \u001b[0;34m=\u001b[0m \u001b[0mpickle\u001b[0m\u001b[0;34m.\u001b[0m\u001b[0mload\u001b[0m\u001b[0;34m(\u001b[0m\u001b[0mpickle_in\u001b[0m\u001b[0;34m)\u001b[0m\u001b[0;34m\u001b[0m\u001b[0;34m\u001b[0m\u001b[0m\n\u001b[1;32m      3\u001b[0m \u001b[0mprint\u001b[0m\u001b[0;34m(\u001b[0m\u001b[0mlen\u001b[0m\u001b[0;34m(\u001b[0m\u001b[0mordered_dict\u001b[0m\u001b[0;34m.\u001b[0m\u001b[0mkeys\u001b[0m\u001b[0;34m(\u001b[0m\u001b[0;34m)\u001b[0m\u001b[0;34m)\u001b[0m\u001b[0;34m)\u001b[0m\u001b[0;34m\u001b[0m\u001b[0;34m\u001b[0m\u001b[0m\n\u001b[1;32m      4\u001b[0m \u001b[0;34m\u001b[0m\u001b[0m\n\u001b[1;32m      5\u001b[0m \u001b[0mfig\u001b[0m\u001b[0;34m,\u001b[0m\u001b[0max\u001b[0m \u001b[0;34m=\u001b[0m \u001b[0mplt\u001b[0m\u001b[0;34m.\u001b[0m\u001b[0msubplots\u001b[0m\u001b[0;34m(\u001b[0m\u001b[0;36m1\u001b[0m\u001b[0;34m)\u001b[0m\u001b[0;34m\u001b[0m\u001b[0;34m\u001b[0m\u001b[0m\n",
      "\u001b[0;31mFileNotFoundError\u001b[0m: [Errno 2] No such file or directory: 'test.pickle'"
     ]
    }
   ],
   "source": [
    "pickle_in = open(\"test.pickle\", \"rb\")\n",
    "ordered_dict = pickle.load(pickle_in)\n",
    "print(len(ordered_dict.keys()))\n",
    "\n",
    "fig,ax = plt.subplots(1)\n",
    "\n",
    "def draw_on_image(image_name, axis=ax):\n",
    "    full_im = cv2.imread(f\"{IMAGE_PATH}{image_name}\")\n",
    "    \n",
    "    im_bbs = np.asarray(ordered_dict.get(image_name)).astype(int)\n",
    "    # converts to x1,y1 to x2,y2 and draws on image\n",
    "    for bb in im_bbs:\n",
    "        bb[2] = bb[0] + bb[2]\n",
    "        bb[3] = bb[1] + bb[3]\n",
    "        #print(bb)\n",
    "        #print(bb[0], bb[1])\n",
    "    \n",
    "        #color = tuple(np.random.randint(0,255, 3))\n",
    "        #rect = patches.Rectangle((bb[0],bb[1]), bb[2], bb[3], edgecolor=\"r\", linewidth=1, facecolor='none')\n",
    "        #ax.add_patch(rect)\n",
    "        #r = np.random.randint(0,255)\n",
    "\n",
    "        r,g,b = np.random.randint(0,255, 3)\n",
    "        color = (int(r),int(g), int(b))\n",
    "        \n",
    "        \n",
    "        cv2.rectangle(full_im, (bb[0], bb[1]), (bb[2], bb[3]), (color), 4)\n",
    "        \n",
    "        ax.imshow(full_im)\n",
    "    \n",
    "    print(im_bbs.shape)\n",
    "    print(image_name)\n",
    "draw_on_image(image_names[15])\n",
    "    \n"
   ]
  },
  {
   "cell_type": "code",
   "execution_count": 9,
   "metadata": {},
   "outputs": [
    {
     "ename": "NameError",
     "evalue": "name 'ordered_dict' is not defined",
     "output_type": "error",
     "traceback": [
      "\u001b[0;31m---------------------------------------------------------------------------\u001b[0m",
      "\u001b[0;31mNameError\u001b[0m                                 Traceback (most recent call last)",
      "\u001b[0;32m<ipython-input-9-dd41e32bbf66>\u001b[0m in \u001b[0;36m<module>\u001b[0;34m\u001b[0m\n\u001b[0;32m----> 1\u001b[0;31m \u001b[0mim_bbs\u001b[0m \u001b[0;34m=\u001b[0m \u001b[0mnp\u001b[0m\u001b[0;34m.\u001b[0m\u001b[0masarray\u001b[0m\u001b[0;34m(\u001b[0m\u001b[0mordered_dict\u001b[0m\u001b[0;34m.\u001b[0m\u001b[0mget\u001b[0m\u001b[0;34m(\u001b[0m\u001b[0mimage_names\u001b[0m\u001b[0;34m[\u001b[0m\u001b[0;36m9\u001b[0m\u001b[0;34m]\u001b[0m\u001b[0;34m)\u001b[0m\u001b[0;34m)\u001b[0m\u001b[0;34m.\u001b[0m\u001b[0mastype\u001b[0m\u001b[0;34m(\u001b[0m\u001b[0mint\u001b[0m\u001b[0;34m)\u001b[0m\u001b[0;34m\u001b[0m\u001b[0;34m\u001b[0m\u001b[0m\n\u001b[0m\u001b[1;32m      2\u001b[0m \u001b[0mprint\u001b[0m\u001b[0;34m(\u001b[0m\u001b[0mim_bbs\u001b[0m\u001b[0;34m.\u001b[0m\u001b[0mshape\u001b[0m\u001b[0;34m)\u001b[0m\u001b[0;34m\u001b[0m\u001b[0;34m\u001b[0m\u001b[0m\n\u001b[1;32m      3\u001b[0m \u001b[0mim_bbs2\u001b[0m \u001b[0;34m=\u001b[0m \u001b[0mnp\u001b[0m\u001b[0;34m.\u001b[0m\u001b[0masarray\u001b[0m\u001b[0;34m(\u001b[0m\u001b[0mordered_dict\u001b[0m\u001b[0;34m.\u001b[0m\u001b[0mget\u001b[0m\u001b[0;34m(\u001b[0m\u001b[0mimage_names\u001b[0m\u001b[0;34m[\u001b[0m\u001b[0;36m9\u001b[0m\u001b[0;34m]\u001b[0m\u001b[0;34m)\u001b[0m\u001b[0;34m)\u001b[0m\u001b[0;34m\u001b[0m\u001b[0;34m\u001b[0m\u001b[0m\n\u001b[1;32m      4\u001b[0m \u001b[0;31m#print(im_bbs)\u001b[0m\u001b[0;34m\u001b[0m\u001b[0;34m\u001b[0m\u001b[0m\n\u001b[1;32m      5\u001b[0m \u001b[0;34m\u001b[0m\u001b[0m\n",
      "\u001b[0;31mNameError\u001b[0m: name 'ordered_dict' is not defined"
     ]
    }
   ],
   "source": [
    "im_bbs = np.asarray(ordered_dict.get(image_names[9])).astype(int)\n",
    "print(im_bbs.shape)\n",
    "im_bbs2 = np.asarray(ordered_dict.get(image_names[9]))\n",
    "#print(im_bbs)\n",
    "\n",
    "def isolate_worm(image_name, n):\n",
    "    image = cv2.imread(f\"{IMAGE_PATH}{image_name}\", 0)\n",
    "    im_bbs = np.asarray(ordered_dict.get(image_name))\n",
    "    im_bbs = im_bbs.astype(\"int\")\n",
    "    x,y,w,h = im_bbs[n]\n",
    "    \n",
    "    worm_bb_im = image[y:y+h, x:x+w]\n",
    "    return(worm_bb_im)\n",
    "    \n",
    "worm = isolate_worm(image_names[9], 1)\n",
    "worm_blur = cv2.GaussianBlur(worm, (5,5), 0)\n",
    "thr = cv2.adaptiveThreshold(worm_blur, 255, cv2.ADAPTIVE_THRESH_GAUSSIAN_C, cv2.THRESH_BINARY_INV, 11, 2)\n",
    "plt.imshow(thr)\n",
    "#plt.imshow(worm_blur)"
   ]
  },
  {
   "cell_type": "code",
   "execution_count": 10,
   "metadata": {},
   "outputs": [
    {
     "ename": "NameError",
     "evalue": "name 'np_im' is not defined",
     "output_type": "error",
     "traceback": [
      "\u001b[0;31m---------------------------------------------------------------------------\u001b[0m",
      "\u001b[0;31mNameError\u001b[0m                                 Traceback (most recent call last)",
      "\u001b[0;32m<ipython-input-10-2bb11bdcb098>\u001b[0m in \u001b[0;36m<module>\u001b[0;34m\u001b[0m\n\u001b[1;32m     93\u001b[0m \u001b[0;34m\u001b[0m\u001b[0m\n\u001b[1;32m     94\u001b[0m \u001b[0;34m\u001b[0m\u001b[0m\n\u001b[0;32m---> 95\u001b[0;31m \u001b[0mcroped_np_im\u001b[0m \u001b[0;34m=\u001b[0m \u001b[0msquare_image\u001b[0m\u001b[0;34m(\u001b[0m\u001b[0mnp_im\u001b[0m\u001b[0;34m)\u001b[0m\u001b[0;34m\u001b[0m\u001b[0;34m\u001b[0m\u001b[0m\n\u001b[0m\u001b[1;32m     96\u001b[0m \u001b[0mims_dict\u001b[0m\u001b[0;34m,\u001b[0m \u001b[0mim_adj_bbs\u001b[0m \u001b[0;34m=\u001b[0m \u001b[0mstride_image\u001b[0m\u001b[0;34m(\u001b[0m\u001b[0mimage_names\u001b[0m\u001b[0;34m[\u001b[0m\u001b[0;36m16\u001b[0m\u001b[0;34m]\u001b[0m\u001b[0;34m,\u001b[0m \u001b[0mSTRIDE\u001b[0m\u001b[0;34m,\u001b[0m \u001b[0max\u001b[0m\u001b[0;34m)\u001b[0m\u001b[0;34m\u001b[0m\u001b[0;34m\u001b[0m\u001b[0m\n",
      "\u001b[0;31mNameError\u001b[0m: name 'np_im' is not defined"
     ]
    }
   ],
   "source": [
    "CROP_SIZE = 352\n",
    "STRIDE = 176\n",
    "\n",
    "def downscale_bbs(bb, grid_pos):\n",
    "    # input is xcenter, ycenter, width height\n",
    "    # output is upper left corner, full width full height\n",
    "    x, y, w, h = bb\n",
    "    Xgrid, Ygrid = grid_pos\n",
    "    n_x = (x-w) - Xgrid\n",
    "    n_y = (y-h) - Ygrid\n",
    "    adj_position = [n_x, n_y, w*2, h*2]\n",
    "    return(adj_position)\n",
    "    \n",
    "\n",
    "def square_image(np_im):\n",
    "    x_shape = np_im.shape[1]\n",
    "    y_shape = np_im.shape[0]\n",
    "\n",
    "    x_crop = x_shape % CROP_SIZE \n",
    "    y_crop = y_shape % CROP_SIZE\n",
    "\n",
    "    # crop image so it is divisible by 352 \n",
    "    croped_np_im = np_im[:(y_shape-y_crop), :(x_shape-x_crop)]\n",
    "    return croped_np_im\n",
    "\n",
    "def stride_image(image_name, STRIDE, ax):\n",
    "    image = cv2.imread(f\"{IMAGE_PATH}{image_name}\")\n",
    "    drawn_image = cv2.imread(f\"{IMAGE_PATH}{image_name}\")\n",
    "    im_bbs = np.asarray(ordered_dict.get(image_name))\n",
    "    \n",
    "    # output dictionary with image pixles and bounding boxes\n",
    "    image_slices = defaultdict()\n",
    "    \n",
    "    # image stuff\n",
    "    x_shape = image.shape[1]\n",
    "    y_shape = image.shape[0]\n",
    "    \n",
    "    # convert to x,y,w,h\n",
    "    adj_bbs = []\n",
    "    for bb in im_bbs:\n",
    "        w, h = (bb[2:])/2\n",
    "        adj_pos = [(bb[0]+w), (bb[1]+h), w, h]\n",
    "        adj_bbs.append(adj_pos)\n",
    "    \n",
    "    adj_bbs = np.array(adj_bbs)\n",
    "    \n",
    "    # test new bbs \n",
    "    fig,ax = plt.subplots(2,1)\n",
    "    ax[0].imshow(image)\n",
    "    ax[1].imshow(show_image(drawn_image, adj_bbs, im_out=True))\n",
    "    \n",
    "    # cut the images with the given stride\n",
    "    cut_images = []\n",
    "    y_map = 0\n",
    "    for Y in range(0, y_shape, (STRIDE)):\n",
    "        #print(\"y:\", y,(y+CROP_SIZE))\n",
    "        \n",
    "        x_map = 0\n",
    "        for X in range(0, x_shape, (STRIDE)):  \n",
    "            # cut the image\n",
    "            im_slice = image[Y:Y+CROP_SIZE, X:X+CROP_SIZE]\n",
    "            image_slices[(y_map, x_map)] = {\"image\": im_slice, \"bbs\":[], \"cord\":(X,Y)}\n",
    "            \n",
    "            slice_bbs = []\n",
    "            for bb in adj_bbs:\n",
    "                np.around(bb, 3, out=bb)\n",
    "                status = bound_check(X, Y, bb[0], bb[1], bb[2], bb[3], CROP_SIZE)\n",
    "                if status:\n",
    "                    image_slices[(y_map, x_map)][\"bbs\"].append(bb)\n",
    "                    #print(x_map, y_map, bb)\n",
    "            \n",
    "            # test draw the rectangles on the image \n",
    "            if X == 0 or X % 352 == 0:\n",
    "                rect = patches.Rectangle((X,Y), 352, 352, edgecolor=\"b\", linewidth=1, facecolor='none')\n",
    "                ax[0].add_patch(rect)\n",
    "                ax[0].text(X+10,Y+30, f\"({x_map},{y_map})\", color='blue')\n",
    "            else:\n",
    "                rect = patches.Rectangle((X,Y), 352, 352, edgecolor=\"r\", linewidth=1, facecolor='none')\n",
    "                ax[0].add_patch(rect)\n",
    "                ax[0].text(X+10,Y+30, f\"({x_map},{y_map})\", color='red')\n",
    "                \n",
    "                \n",
    "            \n",
    "            \n",
    "            x_map += 1\n",
    "        y_map += 1\n",
    "    \n",
    "    print(\"# of boxes:\",y_map*x_map)\n",
    "    #return image_slices\n",
    "    return (image_slices, adj_bbs)\n",
    "\n",
    "    plt.show()\n",
    "    \n",
    "\n",
    "croped_np_im = square_image(np_im)\n",
    "ims_dict, im_adj_bbs = stride_image(image_names[16], STRIDE, ax)"
   ]
  },
  {
   "cell_type": "markdown",
   "metadata": {},
   "source": [
    "At this point all the slices and worm coordinates are organized into the dictionary named ims_dict. Will now work on rebuilding the image and solve the bounding box overlap issue. \n",
    "\n",
    "bbs are stored in x_center, y_center, width, height"
   ]
  },
  {
   "cell_type": "code",
   "execution_count": 11,
   "metadata": {},
   "outputs": [
    {
     "ename": "NameError",
     "evalue": "name 'plt' is not defined",
     "output_type": "error",
     "traceback": [
      "\u001b[0;31m---------------------------------------------------------------------------\u001b[0m",
      "\u001b[0;31mNameError\u001b[0m                                 Traceback (most recent call last)",
      "\u001b[0;32m<ipython-input-11-fc3a47fea0db>\u001b[0m in \u001b[0;36m<module>\u001b[0;34m\u001b[0m\n\u001b[1;32m      1\u001b[0m \u001b[0;32mfrom\u001b[0m \u001b[0mmpl_toolkits\u001b[0m\u001b[0;34m.\u001b[0m\u001b[0maxes_grid1\u001b[0m \u001b[0;32mimport\u001b[0m \u001b[0mImageGrid\u001b[0m\u001b[0;34m\u001b[0m\u001b[0;34m\u001b[0m\u001b[0m\n\u001b[0;32m----> 2\u001b[0;31m \u001b[0mfig2\u001b[0m \u001b[0;34m=\u001b[0m \u001b[0mplt\u001b[0m\u001b[0;34m.\u001b[0m\u001b[0mfigure\u001b[0m\u001b[0;34m(\u001b[0m\u001b[0mfigsize\u001b[0m\u001b[0;34m=\u001b[0m\u001b[0;34m(\u001b[0m\u001b[0;36m15\u001b[0m\u001b[0;34m,\u001b[0m\u001b[0;36m15\u001b[0m\u001b[0;34m)\u001b[0m\u001b[0;34m)\u001b[0m\u001b[0;34m\u001b[0m\u001b[0;34m\u001b[0m\u001b[0m\n\u001b[0m\u001b[1;32m      3\u001b[0m \u001b[0mgrid\u001b[0m \u001b[0;34m=\u001b[0m \u001b[0mImageGrid\u001b[0m\u001b[0;34m(\u001b[0m\u001b[0mfig2\u001b[0m\u001b[0;34m,\u001b[0m \u001b[0;36m111\u001b[0m\u001b[0;34m,\u001b[0m \u001b[0mnrows_ncols\u001b[0m\u001b[0;34m=\u001b[0m\u001b[0;34m(\u001b[0m\u001b[0;36m4\u001b[0m\u001b[0;34m,\u001b[0m\u001b[0;36m5\u001b[0m\u001b[0;34m)\u001b[0m\u001b[0;34m,\u001b[0m \u001b[0maxes_pad\u001b[0m \u001b[0;34m=\u001b[0m \u001b[0;36m0.1\u001b[0m\u001b[0;34m)\u001b[0m\u001b[0;34m\u001b[0m\u001b[0;34m\u001b[0m\u001b[0m\n\u001b[1;32m      4\u001b[0m \u001b[0;34m\u001b[0m\u001b[0m\n\u001b[1;32m      5\u001b[0m \u001b[0my1\u001b[0m\u001b[0;34m,\u001b[0m \u001b[0mx1\u001b[0m \u001b[0;34m=\u001b[0m \u001b[0mnp\u001b[0m\u001b[0;34m.\u001b[0m\u001b[0mmgrid\u001b[0m\u001b[0;34m[\u001b[0m\u001b[0;36m1\u001b[0m\u001b[0;34m:\u001b[0m\u001b[0;36m5\u001b[0m\u001b[0;34m:\u001b[0m\u001b[0;36m1\u001b[0m\u001b[0;34m,\u001b[0m \u001b[0;36m2\u001b[0m\u001b[0;34m:\u001b[0m\u001b[0;36m7\u001b[0m\u001b[0;34m:\u001b[0m\u001b[0;36m1\u001b[0m\u001b[0;34m]\u001b[0m\u001b[0;34m\u001b[0m\u001b[0;34m\u001b[0m\u001b[0m\n",
      "\u001b[0;31mNameError\u001b[0m: name 'plt' is not defined"
     ]
    }
   ],
   "source": [
    "from mpl_toolkits.axes_grid1 import ImageGrid\n",
    "fig2 = plt.figure(figsize=(15,15))\n",
    "grid = ImageGrid(fig2, 111, nrows_ncols=(4,5), axes_pad = 0.1)\n",
    "\n",
    "y1, x1 = np.mgrid[1:5:1, 2:7:1]\n",
    "x1 = x1.reshape(20)\n",
    "y1 = y1.reshape(20)\n",
    "\n",
    "map_cords = zip(y1, x1)\n",
    "\n",
    "def simple_chart():\n",
    "    for ax, cord in zip(grid, map_cords):\n",
    "        grid_pos = ims_dict[cord][\"cord\"]\n",
    "        sliced = ims_dict[cord][\"image\"]\n",
    "        ax.imshow(sliced)\n",
    "        \n",
    "        bbs = ims_dict[cord][\"bbs\"]\n",
    "        for bb in bbs:\n",
    "            adj_pos = downscale_bbs(bb, grid_pos)\n",
    "            x, y, w, h = adj_pos\n",
    "            rect = patches.Rectangle((x,y), w, h, linewidth=1, edgecolor='r', facecolor='none')\n",
    "            ax.add_patch(rect)\n",
    "        \n",
    "    \n",
    "simple_chart()\n",
    "\n",
    "\n",
    "\n",
    "    "
   ]
  },
  {
   "cell_type": "code",
   "execution_count": 12,
   "metadata": {},
   "outputs": [
    {
     "ename": "NameError",
     "evalue": "name 'plt' is not defined",
     "output_type": "error",
     "traceback": [
      "\u001b[0;31m---------------------------------------------------------------------------\u001b[0m",
      "\u001b[0;31mNameError\u001b[0m                                 Traceback (most recent call last)",
      "\u001b[0;32m<ipython-input-12-a683842dda97>\u001b[0m in \u001b[0;36m<module>\u001b[0;34m\u001b[0m\n\u001b[0;32m----> 1\u001b[0;31m \u001b[0mfig3\u001b[0m \u001b[0;34m=\u001b[0m \u001b[0mplt\u001b[0m\u001b[0;34m.\u001b[0m\u001b[0mfigure\u001b[0m\u001b[0;34m(\u001b[0m\u001b[0mfigsize\u001b[0m\u001b[0;34m=\u001b[0m\u001b[0;34m(\u001b[0m\u001b[0;36m10\u001b[0m\u001b[0;34m,\u001b[0m\u001b[0;36m10\u001b[0m\u001b[0;34m)\u001b[0m\u001b[0;34m)\u001b[0m\u001b[0;34m\u001b[0m\u001b[0;34m\u001b[0m\u001b[0m\n\u001b[0m\u001b[1;32m      2\u001b[0m \u001b[0mgrid\u001b[0m \u001b[0;34m=\u001b[0m \u001b[0mImageGrid\u001b[0m\u001b[0;34m(\u001b[0m\u001b[0mfig3\u001b[0m\u001b[0;34m,\u001b[0m \u001b[0;36m111\u001b[0m\u001b[0;34m,\u001b[0m \u001b[0mnrows_ncols\u001b[0m\u001b[0;34m=\u001b[0m\u001b[0;34m(\u001b[0m\u001b[0;36m2\u001b[0m\u001b[0;34m,\u001b[0m\u001b[0;36m2\u001b[0m\u001b[0;34m)\u001b[0m\u001b[0;34m,\u001b[0m \u001b[0maxes_pad\u001b[0m \u001b[0;34m=\u001b[0m \u001b[0;36m0.1\u001b[0m\u001b[0;34m)\u001b[0m\u001b[0;34m\u001b[0m\u001b[0;34m\u001b[0m\u001b[0m\n\u001b[1;32m      3\u001b[0m \u001b[0;34m\u001b[0m\u001b[0m\n\u001b[1;32m      4\u001b[0m \u001b[0;32mfor\u001b[0m \u001b[0mi\u001b[0m\u001b[0;34m,\u001b[0m \u001b[0mimage\u001b[0m \u001b[0;32min\u001b[0m \u001b[0menumerate\u001b[0m\u001b[0;34m(\u001b[0m\u001b[0mimage_names\u001b[0m\u001b[0;34m[\u001b[0m\u001b[0;36m0\u001b[0m\u001b[0;34m:\u001b[0m\u001b[0;36m4\u001b[0m\u001b[0;34m]\u001b[0m\u001b[0;34m)\u001b[0m\u001b[0;34m:\u001b[0m\u001b[0;34m\u001b[0m\u001b[0;34m\u001b[0m\u001b[0m\n\u001b[1;32m      5\u001b[0m     \u001b[0mimage_ar\u001b[0m \u001b[0;34m=\u001b[0m \u001b[0mcv2\u001b[0m\u001b[0;34m.\u001b[0m\u001b[0mimread\u001b[0m\u001b[0;34m(\u001b[0m\u001b[0;34mf\"{IMAGE_PATH}{image}\"\u001b[0m\u001b[0;34m)\u001b[0m\u001b[0;34m\u001b[0m\u001b[0;34m\u001b[0m\u001b[0m\n",
      "\u001b[0;31mNameError\u001b[0m: name 'plt' is not defined"
     ]
    }
   ],
   "source": [
    "\n",
    "fig3 = plt.figure(figsize=(10,10))\n",
    "grid = ImageGrid(fig3, 111, nrows_ncols=(2,2), axes_pad = 0.1)\n",
    "\n",
    "for i, image in enumerate(image_names[0:4]):\n",
    "    image_ar = cv2.imread(f\"{IMAGE_PATH}{image}\")\n",
    "    print(image_ar.shape)\n",
    "    grid[i].imshow(image_ar)\n",
    "\n",
    "\n"
   ]
  },
  {
   "cell_type": "code",
   "execution_count": 13,
   "metadata": {},
   "outputs": [
    {
     "name": "stdout",
     "output_type": "stream",
     "text": [
      "[3, 4, 5]\n",
      "3\n",
      "1\n"
     ]
    },
    {
     "ename": "TypeError",
     "evalue": "string indices must be integers",
     "output_type": "error",
     "traceback": [
      "\u001b[0;31m---------------------------------------------------------------------------\u001b[0m",
      "\u001b[0;31mTypeError\u001b[0m                                 Traceback (most recent call last)",
      "\u001b[0;32m<ipython-input-13-12bcad42427d>\u001b[0m in \u001b[0;36m<module>\u001b[0;34m\u001b[0m\n\u001b[1;32m      4\u001b[0m \u001b[0;34m\u001b[0m\u001b[0m\n\u001b[1;32m      5\u001b[0m \u001b[0;32mfor\u001b[0m \u001b[0mkey\u001b[0m \u001b[0;32min\u001b[0m \u001b[0mkeys\u001b[0m\u001b[0;34m:\u001b[0m\u001b[0;34m\u001b[0m\u001b[0;34m\u001b[0m\u001b[0m\n\u001b[0;32m----> 6\u001b[0;31m     \u001b[0mprint\u001b[0m\u001b[0;34m(\u001b[0m\u001b[0mtest\u001b[0m\u001b[0;34m[\u001b[0m\u001b[0mkey\u001b[0m\u001b[0;34m]\u001b[0m\u001b[0;34m[\u001b[0m\u001b[0;34m'test'\u001b[0m\u001b[0;34m]\u001b[0m\u001b[0;34m)\u001b[0m\u001b[0;34m\u001b[0m\u001b[0;34m\u001b[0m\u001b[0m\n\u001b[0m\u001b[1;32m      7\u001b[0m \u001b[0;34m\u001b[0m\u001b[0m\n",
      "\u001b[0;31mTypeError\u001b[0m: string indices must be integers"
     ]
    }
   ],
   "source": [
    "\n",
    "test = {3:{'test':3, 'clss':2}, 4:{'test':1, 'clss':1}, 5:\"y\"}\n",
    "print(list(test.keys()))\n",
    "keys = (test.keys())\n",
    "\n",
    "for key in keys:\n",
    "    print(test[key]['test'])\n",
    "\n"
   ]
  },
  {
   "cell_type": "code",
   "execution_count": 14,
   "metadata": {},
   "outputs": [
    {
     "ename": "NameError",
     "evalue": "name 't' is not defined",
     "output_type": "error",
     "traceback": [
      "\u001b[0;31m---------------------------------------------------------------------------\u001b[0m",
      "\u001b[0;31mNameError\u001b[0m                                 Traceback (most recent call last)",
      "\u001b[0;32m<ipython-input-14-34fc7a11cb38>\u001b[0m in \u001b[0;36m<module>\u001b[0;34m\u001b[0m\n\u001b[0;32m----> 1\u001b[0;31m \u001b[0mt\u001b[0m\u001b[0;34m\u001b[0m\u001b[0;34m\u001b[0m\u001b[0m\n\u001b[0m",
      "\u001b[0;31mNameError\u001b[0m: name 't' is not defined"
     ]
    }
   ],
   "source": [
    "t"
   ]
  },
  {
   "cell_type": "code",
   "execution_count": null,
   "metadata": {},
   "outputs": [],
   "source": []
  },
  {
   "cell_type": "code",
   "execution_count": 15,
   "metadata": {},
   "outputs": [],
   "source": [
    "t , p = 0.5*np.asarray([1,2])\n",
    "ar = np.asarray([1,2])\n"
   ]
  },
  {
   "cell_type": "code",
   "execution_count": null,
   "metadata": {},
   "outputs": [],
   "source": []
  },
  {
   "cell_type": "code",
   "execution_count": null,
   "metadata": {},
   "outputs": [],
   "source": []
  },
  {
   "cell_type": "code",
   "execution_count": 16,
   "metadata": {},
   "outputs": [
    {
     "ename": "NameError",
     "evalue": "name 'load_csv' is not defined",
     "output_type": "error",
     "traceback": [
      "\u001b[0;31m---------------------------------------------------------------------------\u001b[0m",
      "\u001b[0;31mNameError\u001b[0m                                 Traceback (most recent call last)",
      "\u001b[0;32m<ipython-input-16-0ee1e1e99294>\u001b[0m in \u001b[0;36m<module>\u001b[0;34m\u001b[0m\n\u001b[1;32m      2\u001b[0m \u001b[0mCSV_PATH\u001b[0m \u001b[0;34m=\u001b[0m \u001b[0;34m\"/home/paolobif/Lab-Work/ml/pre_arch/worm_data/compiled_11_20/compiled_11_20.csv\"\u001b[0m\u001b[0;34m\u001b[0m\u001b[0;34m\u001b[0m\u001b[0m\n\u001b[1;32m      3\u001b[0m \u001b[0mIMAGE_PATH\u001b[0m \u001b[0;34m=\u001b[0m \u001b[0;34m\"/home/paolobif/Lab-Work/ml/pre_arch/worm_data/compiled_11_20/NN_posttrain_2_im/\"\u001b[0m\u001b[0;34m\u001b[0m\u001b[0;34m\u001b[0m\u001b[0m\n\u001b[0;32m----> 4\u001b[0;31m \u001b[0mcsv_ar\u001b[0m \u001b[0;34m=\u001b[0m \u001b[0mload_csv\u001b[0m\u001b[0;34m(\u001b[0m\u001b[0mCSV_PATH\u001b[0m\u001b[0;34m)\u001b[0m\u001b[0;34m\u001b[0m\u001b[0;34m\u001b[0m\u001b[0m\n\u001b[0m\u001b[1;32m      5\u001b[0m \u001b[0mcsv_ar\u001b[0m \u001b[0;34m=\u001b[0m \u001b[0mcsv_ar\u001b[0m\u001b[0;34m[\u001b[0m\u001b[0;36m1\u001b[0m\u001b[0;34m:\u001b[0m\u001b[0;34m]\u001b[0m\u001b[0;34m\u001b[0m\u001b[0;34m\u001b[0m\u001b[0m\n\u001b[1;32m      6\u001b[0m \u001b[0mcsv_ar\u001b[0m\u001b[0;34m\u001b[0m\u001b[0;34m\u001b[0m\u001b[0m\n",
      "\u001b[0;31mNameError\u001b[0m: name 'load_csv' is not defined"
     ]
    }
   ],
   "source": [
    "from collections import defaultdict\n",
    "CSV_PATH = \"/home/paolobif/Lab-Work/ml/pre_arch/worm_data/compiled_11_20/compiled_11_20.csv\"\n",
    "IMAGE_PATH = \"/home/paolobif/Lab-Work/ml/pre_arch/worm_data/compiled_11_20/NN_posttrain_2_im/\"\n",
    "csv_ar = load_csv(CSV_PATH)\n",
    "csv_ar = csv_ar[1:]\n",
    "csv_ar\n",
    "\n",
    "\n",
    "def dictionize_csv(csv_ar):\n",
    "    dict_info = {}\n",
    "    for row in csv_ar:\n",
    "        img_name = row[0]\n",
    "        dict_info.setdefault(img_name, []).append(row[1:])\n",
    "    return dict_info\n",
    "\n",
    "def anotate_image(img_name, img_dict):\n",
    "    img = cv2.imread(IMAGE_PATH+img_name)\n",
    "    bbs = img_dict[img_name]\n",
    "    for bb in bbs:\n",
    "        bb = [int(i) for i in bb]\n",
    "        xcorner, ycorner, w, h = bb\n",
    "        x1, x2 = xcorner, (xcorner + w)\n",
    "        y1, y2 = ycorner, (ycorner + h)\n",
    "        \n",
    "        cv2.rectangle(img, (x1,y1), (x2,y2), (255,255,0), 2)\n",
    "    return img\n",
    "\n"
   ]
  },
  {
   "cell_type": "code",
   "execution_count": 17,
   "metadata": {},
   "outputs": [
    {
     "ename": "NameError",
     "evalue": "name 'dictionize_csv' is not defined",
     "output_type": "error",
     "traceback": [
      "\u001b[0;31m---------------------------------------------------------------------------\u001b[0m",
      "\u001b[0;31mNameError\u001b[0m                                 Traceback (most recent call last)",
      "\u001b[0;32m<ipython-input-17-21cf15e466f6>\u001b[0m in \u001b[0;36m<module>\u001b[0;34m\u001b[0m\n\u001b[0;32m----> 1\u001b[0;31m \u001b[0mdict_info\u001b[0m \u001b[0;34m=\u001b[0m \u001b[0mdictionize_csv\u001b[0m\u001b[0;34m(\u001b[0m\u001b[0mcsv_ar\u001b[0m\u001b[0;34m)\u001b[0m\u001b[0;34m\u001b[0m\u001b[0;34m\u001b[0m\u001b[0m\n\u001b[0m\u001b[1;32m      2\u001b[0m \u001b[0mimage_names\u001b[0m \u001b[0;34m=\u001b[0m \u001b[0mos\u001b[0m\u001b[0;34m.\u001b[0m\u001b[0mlistdir\u001b[0m\u001b[0;34m(\u001b[0m\u001b[0mIMAGE_PATH\u001b[0m\u001b[0;34m)\u001b[0m\u001b[0;34m\u001b[0m\u001b[0;34m\u001b[0m\u001b[0m\n\u001b[1;32m      3\u001b[0m \u001b[0;34m\u001b[0m\u001b[0m\n\u001b[1;32m      4\u001b[0m \u001b[0mimg\u001b[0m \u001b[0;34m=\u001b[0m \u001b[0manotate_image\u001b[0m\u001b[0;34m(\u001b[0m\u001b[0mimage_names\u001b[0m\u001b[0;34m[\u001b[0m\u001b[0;36m70\u001b[0m\u001b[0;34m]\u001b[0m\u001b[0;34m,\u001b[0m \u001b[0mdict_info\u001b[0m\u001b[0;34m)\u001b[0m\u001b[0;34m\u001b[0m\u001b[0;34m\u001b[0m\u001b[0m\n\u001b[1;32m      5\u001b[0m \u001b[0mplt\u001b[0m\u001b[0;34m.\u001b[0m\u001b[0mimshow\u001b[0m\u001b[0;34m(\u001b[0m\u001b[0mimg\u001b[0m\u001b[0;34m)\u001b[0m\u001b[0;34m\u001b[0m\u001b[0;34m\u001b[0m\u001b[0m\n",
      "\u001b[0;31mNameError\u001b[0m: name 'dictionize_csv' is not defined"
     ]
    }
   ],
   "source": [
    "dict_info = dictionize_csv(csv_ar)\n",
    "image_names = os.listdir(IMAGE_PATH)\n",
    "\n",
    "img = anotate_image(image_names[70], dict_info)\n",
    "plt.imshow(img)\n",
    "\n",
    "\n",
    "def iterate_through_imgs(image_names, dict_info):\n",
    "    i = 0 \n",
    "    while True:\n",
    "        img = anotate_image(image_names[i], dict_info)\n",
    "        yield img\n",
    "        i += 1\n",
    "\n",
    "img = iterate_through_imgs(image_names, dict_info)"
   ]
  },
  {
   "cell_type": "code",
   "execution_count": 18,
   "metadata": {},
   "outputs": [
    {
     "ename": "NameError",
     "evalue": "name 'plt' is not defined",
     "output_type": "error",
     "traceback": [
      "\u001b[0;31m---------------------------------------------------------------------------\u001b[0m",
      "\u001b[0;31mNameError\u001b[0m                                 Traceback (most recent call last)",
      "\u001b[0;32m<ipython-input-18-a56db091ddc9>\u001b[0m in \u001b[0;36m<module>\u001b[0;34m\u001b[0m\n\u001b[0;32m----> 1\u001b[0;31m \u001b[0mplt\u001b[0m\u001b[0;34m.\u001b[0m\u001b[0mimshow\u001b[0m\u001b[0;34m(\u001b[0m\u001b[0mnext\u001b[0m\u001b[0;34m(\u001b[0m\u001b[0mimg\u001b[0m\u001b[0;34m)\u001b[0m\u001b[0;34m)\u001b[0m\u001b[0;34m\u001b[0m\u001b[0;34m\u001b[0m\u001b[0m\n\u001b[0m",
      "\u001b[0;31mNameError\u001b[0m: name 'plt' is not defined"
     ]
    }
   ],
   "source": [
    "plt.imshow(next(img))"
   ]
  },
  {
   "cell_type": "code",
   "execution_count": null,
   "metadata": {},
   "outputs": [],
   "source": []
  },
  {
   "cell_type": "code",
   "execution_count": 19,
   "metadata": {},
   "outputs": [
    {
     "data": {
      "text/plain": [
       "array([[ 150,  150],\n",
       "       [ 150,  450],\n",
       "       [ 150,  750],\n",
       "       [ 150, 1050],\n",
       "       [ 450,  150],\n",
       "       [ 450,  450],\n",
       "       [ 450,  750],\n",
       "       [ 450, 1050],\n",
       "       [ 750,  150],\n",
       "       [ 750,  450],\n",
       "       [ 750,  750],\n",
       "       [ 750, 1050],\n",
       "       [1050,  150],\n",
       "       [1050,  450],\n",
       "       [1050,  750],\n",
       "       [1050, 1050],\n",
       "       [1350,  150],\n",
       "       [1350,  450],\n",
       "       [1350,  750],\n",
       "       [1350, 1050],\n",
       "       [1650,  150],\n",
       "       [1650,  450],\n",
       "       [1650,  750],\n",
       "       [1650, 1050]])"
      ]
     },
     "execution_count": 19,
     "metadata": {},
     "output_type": "execute_result"
    }
   ],
   "source": [
    "## creates grid for slicing based on input of image siz and cut sizes\n",
    "img_size = (1920, 1080)\n",
    "def map_grid(img_size, cut_size, shiftxy=(0,0)):\n",
    "    x_size = img_size[0]\n",
    "    y_size = img_size[1]    \n",
    "    \n",
    "    x_shift = shiftxy[0]\n",
    "    y_shift = shiftxy[1]\n",
    "    \n",
    "    map_ar = []\n",
    "    \n",
    "    # declare ranges\n",
    "    x_start_range = 0 + x_shift\n",
    "    y_start_range = 0 + y_shift\n",
    "    \n",
    "    # first pass max_range \n",
    "    \n",
    "    x_max_range = x_size + cut_size if shiftxy == (0,0) else x_size\n",
    "    y_max_range = y_size + cut_size if shiftxy == (0,0) else y_size\n",
    "    \n",
    "    for x in range(0+x_shift, x_max_range, cut_size):\n",
    "        for y in range(0+y_shift, y_max_range, cut_size):\n",
    "            map_ar.append([x,y])\n",
    "    \n",
    "    return np.array(map_ar)\n",
    "\n",
    "crop_size = 300\n",
    "points = map_grid(img_size, crop_size)\n",
    "points2 = map_grid(img_size, crop_size, (150,150))\n",
    "points3 = map_grid(img_size, crop_size, (0,150))\n",
    "points4 = map_grid(img_size, crop_size, (150,0))\n",
    "\n",
    "points2"
   ]
  },
  {
   "cell_type": "code",
   "execution_count": 20,
   "metadata": {},
   "outputs": [
    {
     "ename": "NameError",
     "evalue": "name 'plt' is not defined",
     "output_type": "error",
     "traceback": [
      "\u001b[0;31m---------------------------------------------------------------------------\u001b[0m",
      "\u001b[0;31mNameError\u001b[0m                                 Traceback (most recent call last)",
      "\u001b[0;32m<ipython-input-20-64c133c245e3>\u001b[0m in \u001b[0;36m<module>\u001b[0;34m\u001b[0m\n\u001b[0;32m----> 1\u001b[0;31m \u001b[0mfig\u001b[0m \u001b[0;34m=\u001b[0m \u001b[0mplt\u001b[0m\u001b[0;34m.\u001b[0m\u001b[0mfigure\u001b[0m\u001b[0;34m(\u001b[0m\u001b[0;34m)\u001b[0m\u001b[0;34m\u001b[0m\u001b[0;34m\u001b[0m\u001b[0m\n\u001b[0m\u001b[1;32m      2\u001b[0m \u001b[0max\u001b[0m \u001b[0;34m=\u001b[0m \u001b[0mfig\u001b[0m\u001b[0;34m.\u001b[0m\u001b[0madd_subplot\u001b[0m\u001b[0;34m(\u001b[0m\u001b[0;36m111\u001b[0m\u001b[0;34m)\u001b[0m\u001b[0;34m\u001b[0m\u001b[0;34m\u001b[0m\u001b[0m\n\u001b[1;32m      3\u001b[0m \u001b[0max\u001b[0m\u001b[0;34m.\u001b[0m\u001b[0maxis\u001b[0m\u001b[0;34m(\u001b[0m\u001b[0;34m'auto'\u001b[0m\u001b[0;34m)\u001b[0m\u001b[0;34m\u001b[0m\u001b[0;34m\u001b[0m\u001b[0m\n\u001b[1;32m      4\u001b[0m \u001b[0;34m\u001b[0m\u001b[0m\n\u001b[1;32m      5\u001b[0m \u001b[0;31m# fist pass\u001b[0m\u001b[0;34m\u001b[0m\u001b[0;34m\u001b[0m\u001b[0m\n",
      "\u001b[0;31mNameError\u001b[0m: name 'plt' is not defined"
     ]
    }
   ],
   "source": [
    "fig = plt.figure()\n",
    "ax = fig.add_subplot(111)\n",
    "ax.axis('auto')\n",
    "\n",
    "# fist pass\n",
    "ax.scatter(points[:,0], points[:,1])\n",
    "\n",
    "# second pass\n",
    "ax.scatter(points2[:,0], points2[:,1], color=\"green\")\n",
    "\n",
    "#3rd pass \n",
    "ax.scatter(points3[:,0], points3[:,1], color=\"orange\")\n",
    "\n",
    "# 4th pass \n",
    "ax.scatter(points4[:,0], points4[:,1], color=\"pink\")\n",
    "\n",
    "rect = plt.Rectangle((0,0), img_size[0], img_size[1], fill=False, color='red')\n",
    "ax.add_patch(rect)\n",
    "plt.show()"
   ]
  },
  {
   "cell_type": "code",
   "execution_count": null,
   "metadata": {},
   "outputs": [],
   "source": []
  },
  {
   "cell_type": "code",
   "execution_count": 21,
   "metadata": {},
   "outputs": [
    {
     "ename": "NameError",
     "evalue": "name 'image_names' is not defined",
     "output_type": "error",
     "traceback": [
      "\u001b[0;31m---------------------------------------------------------------------------\u001b[0m",
      "\u001b[0;31mNameError\u001b[0m                                 Traceback (most recent call last)",
      "\u001b[0;32m<ipython-input-21-e409bf88d264>\u001b[0m in \u001b[0;36m<module>\u001b[0;34m\u001b[0m\n\u001b[1;32m      1\u001b[0m \u001b[0;31m## padding function for images not the correct size\u001b[0m\u001b[0;34m\u001b[0m\u001b[0;34m\u001b[0m\u001b[0m\n\u001b[0;32m----> 2\u001b[0;31m \u001b[0mimg_name\u001b[0m \u001b[0;34m=\u001b[0m \u001b[0mimage_names\u001b[0m\u001b[0;34m[\u001b[0m\u001b[0;36m0\u001b[0m\u001b[0;34m]\u001b[0m\u001b[0;34m\u001b[0m\u001b[0;34m\u001b[0m\u001b[0m\n\u001b[0m\u001b[1;32m      3\u001b[0m \u001b[0mimg\u001b[0m \u001b[0;34m=\u001b[0m \u001b[0mcv2\u001b[0m\u001b[0;34m.\u001b[0m\u001b[0mimread\u001b[0m\u001b[0;34m(\u001b[0m\u001b[0mIMAGE_PATH\u001b[0m\u001b[0;34m+\u001b[0m\u001b[0mimg_name\u001b[0m\u001b[0;34m)\u001b[0m\u001b[0;34m\u001b[0m\u001b[0;34m\u001b[0m\u001b[0m\n\u001b[1;32m      4\u001b[0m \u001b[0mcrop\u001b[0m \u001b[0;34m=\u001b[0m \u001b[0mimg\u001b[0m\u001b[0;34m[\u001b[0m\u001b[0;34m:\u001b[0m\u001b[0;36m300\u001b[0m\u001b[0;34m,\u001b[0m \u001b[0;34m:\u001b[0m\u001b[0;36m300\u001b[0m\u001b[0;34m]\u001b[0m\u001b[0;34m\u001b[0m\u001b[0;34m\u001b[0m\u001b[0m\n\u001b[1;32m      5\u001b[0m \u001b[0mplt\u001b[0m\u001b[0;34m.\u001b[0m\u001b[0mimshow\u001b[0m\u001b[0;34m(\u001b[0m\u001b[0mcrop\u001b[0m\u001b[0;34m)\u001b[0m\u001b[0;34m\u001b[0m\u001b[0;34m\u001b[0m\u001b[0m\n",
      "\u001b[0;31mNameError\u001b[0m: name 'image_names' is not defined"
     ]
    }
   ],
   "source": [
    "## padding function for images not the correct size\n",
    "img_name = image_names[0]\n",
    "img = cv2.imread(IMAGE_PATH+img_name)\n",
    "crop = img[:300, :300]\n",
    "plt.imshow(crop)\n",
    "\n",
    "print(crop.shape)\n",
    "\n",
    "\n",
    "## takes cut image and padds the remainder to fit the cut_size\n",
    "def add_padding_to_square_img(img, cut_size):\n",
    "    y_size, x_size = img.shape[:2]\n",
    "    y_pad_amount = cut_size - y_size\n",
    "    x_pad_amount = cut_size - x_size\n",
    "    \n",
    "    pad_img = np.pad(img, [(0,y_pad_amount), (0,x_pad_amount), (0,0)])\n",
    "    \n",
    "    return pad_img\n",
    "\n",
    "pad_img = add_padding_to_square_img(crop, 300)\n",
    "plt.imshow(pad_img)"
   ]
  },
  {
   "cell_type": "code",
   "execution_count": 22,
   "metadata": {},
   "outputs": [],
   "source": [
    "## creates maping generator object\n",
    "class Map_Generator():\n",
    "    \"\"\" Class generates a map grid with the specified cuts\n",
    "        Takes an imput of either image or xy tuple\"\"\"\n",
    "    def __init__(self, xy_shape, cut_size):\n",
    "        self.cut_size = cut_size\n",
    "        if type(xy_shape) != tuple:\n",
    "            print(\"Warning! input must be an np img array\")\n",
    "            self.xy_shape = (xy_shape.shape[1], xy_shape.shape[0])\n",
    "            #self.x_shape = img_xy.shape[1]\n",
    "        else:\n",
    "            self.xy_shape = xy_shape\n",
    "            #self.y_shape = img_xy[1]\n",
    "        \n",
    "        self.paired_grid = []\n",
    "        \n",
    "        self.map_grid = self.generate_complete_map_grid()\n",
    "    \n",
    "    def generate_complete_map_grid(self):\n",
    "        \"\"\"Four passes of map_grid need to be run in order\n",
    "        to cover entire area. Returns list of points for bounds. \"\"\"\n",
    "        xy_shape = self.xy_shape\n",
    "        cut_size = self.cut_size\n",
    "        \n",
    "        shiftx = int(self.cut_size/2) \n",
    "        shifty = int(self.cut_size/2)\n",
    "        \n",
    "        pass1 = self.map_ar(xy_shape, cut_size, (0,0))\n",
    "        pass2 = self.map_ar(xy_shape, cut_size, (shiftx, shifty))\n",
    "        pass3 = self.map_ar(xy_shape, cut_size, (shiftx, 0))\n",
    "        pass4 = self.map_ar(xy_shape, cut_size, (0, shifty))\n",
    "        self.map_grids = [pass1, pass2, pass3, pass4]\n",
    "        \n",
    "        complete_map_grid = []\n",
    "        for map_grid in self.map_grids:\n",
    "            paired_corners = self.convert_grid_to_cornerxy(map_grid)\n",
    "            self.paired_grid.append(paired_corners)\n",
    "            complete_map_grid.extend(paired_corners)\n",
    "            \n",
    "        return complete_map_grid\n",
    "        \n",
    "        # shiftxy can be modified when calling map_ar to create different arrangements of rectangles\n",
    "        \n",
    "    @staticmethod\n",
    "    def map_ar(xy_shape, cut_size, shiftxy=(0,0)):\n",
    "        \"\"\"creates grid map for slicing - adjust shift to cover needed areas -current method\n",
    "        is shift=(cut_size/2, cut_size/2) and (0, cut_size/2) and (cut_size, 0/2).\n",
    "        IMPORTANT - cut_size must be div by 2\"\"\"\n",
    "        x_size = xy_shape[0]\n",
    "        y_size = xy_shape[1]    \n",
    "\n",
    "        x_shift = shiftxy[0]\n",
    "        y_shift = shiftxy[1]\n",
    "\n",
    "        map_ar = []\n",
    "\n",
    "        # declare ranges\n",
    "        x_start_range = 0 + x_shift\n",
    "        y_start_range = 0 + y_shift\n",
    "\n",
    "        # determines the range of each cut. \n",
    "        second_pass_shift = (int(cut_size/2), int(cut_size/2)) \n",
    "        x_max_range = x_size + cut_size if shiftxy == (0,0) or shiftxy == second_pass_shift else x_size\n",
    "        y_max_range = y_size + cut_size if shiftxy == (0,0) or shiftxy == second_pass_shift else y_size\n",
    "\n",
    "        for x in range(0+x_shift, x_max_range, cut_size):\n",
    "            for y in range(0+y_shift, y_max_range, cut_size):\n",
    "                \n",
    "                map_ar.append([x,y])\n",
    "\n",
    "        return map_ar\n",
    "    \n",
    "    @staticmethod\n",
    "    def convert_grid_to_cornerxy(map_grid):\n",
    "        \"\"\" Takes the series of points and then returns point (x1,y1), (x2,y2) for each rectangle\"\"\"\n",
    "        only_xs = [n[0] for n in map_grid]\n",
    "        y_slice_count = only_xs.count(only_xs[0])\n",
    "               \n",
    "        paired_corners = []\n",
    "        ## pair index is the matching corner to point\n",
    "        for i, point in enumerate(map_grid):\n",
    "            pair_index = i+y_slice_count+1\n",
    "            \n",
    "            # if the pair index is not the last of each chunck or the last group do ...\n",
    "            if (i+1) % y_slice_count != 0 and pair_index <= len(map_grid):\n",
    "                #print(i, pair_index, f\"division:{(i+1)%y_slice_count}\")\n",
    "                pair = map_grid[pair_index]\n",
    "                paired_corners.append([tuple(point), tuple(pair)])\n",
    "            else:\n",
    "                pass\n",
    "            \n",
    "        return(paired_corners)\n",
    "        "
   ]
  },
  {
   "cell_type": "code",
   "execution_count": 23,
   "metadata": {},
   "outputs": [],
   "source": [
    "## reformats pair in map_ar\n",
    "def convert_xypair_to_xy_wh(paired_corners):\n",
    "    \"\"\" Calculates difference between paired corners to get w and h\n",
    "    then makes new list using index = 0 of each pair and the w & h\"\"\"\n",
    "    xy_wh_map = []\n",
    "    for pair in paired_corners:\n",
    "        x1y1, x2y2 = pair[0], pair[1]\n",
    "        wh = tuple(map(lambda i,j: i-j, x2y2, x1y1))\n",
    "        xy_wh_map.append([x1y1, wh])\n",
    "    \n",
    "    return(xy_wh_map)\n"
   ]
  },
  {
   "cell_type": "code",
   "execution_count": 24,
   "metadata": {},
   "outputs": [
    {
     "ename": "NameError",
     "evalue": "name 'plt' is not defined",
     "output_type": "error",
     "traceback": [
      "\u001b[0;31m---------------------------------------------------------------------------\u001b[0m",
      "\u001b[0;31mNameError\u001b[0m                                 Traceback (most recent call last)",
      "\u001b[0;32m<ipython-input-24-416cb669add9>\u001b[0m in \u001b[0;36m<module>\u001b[0;34m\u001b[0m\n\u001b[1;32m      2\u001b[0m \u001b[0mxy_wh_rects\u001b[0m \u001b[0;34m=\u001b[0m \u001b[0mconvert_xypair_to_xy_wh\u001b[0m\u001b[0;34m(\u001b[0m\u001b[0mmap_grid\u001b[0m\u001b[0;34m)\u001b[0m\u001b[0;34m\u001b[0m\u001b[0;34m\u001b[0m\u001b[0m\n\u001b[1;32m      3\u001b[0m \u001b[0;34m\u001b[0m\u001b[0m\n\u001b[0;32m----> 4\u001b[0;31m \u001b[0mfig2\u001b[0m \u001b[0;34m=\u001b[0m \u001b[0mplt\u001b[0m\u001b[0;34m.\u001b[0m\u001b[0mfigure\u001b[0m\u001b[0;34m(\u001b[0m\u001b[0;34m)\u001b[0m\u001b[0;34m\u001b[0m\u001b[0;34m\u001b[0m\u001b[0m\n\u001b[0m\u001b[1;32m      5\u001b[0m \u001b[0max2\u001b[0m \u001b[0;34m=\u001b[0m \u001b[0mfig2\u001b[0m\u001b[0;34m.\u001b[0m\u001b[0madd_subplot\u001b[0m\u001b[0;34m(\u001b[0m\u001b[0;36m111\u001b[0m\u001b[0;34m)\u001b[0m\u001b[0;34m\u001b[0m\u001b[0;34m\u001b[0m\u001b[0m\n\u001b[1;32m      6\u001b[0m \u001b[0max\u001b[0m\u001b[0;34m.\u001b[0m\u001b[0maxis\u001b[0m\u001b[0;34m(\u001b[0m\u001b[0;34m'auto'\u001b[0m\u001b[0;34m)\u001b[0m\u001b[0;34m\u001b[0m\u001b[0;34m\u001b[0m\u001b[0m\n",
      "\u001b[0;31mNameError\u001b[0m: name 'plt' is not defined"
     ]
    }
   ],
   "source": [
    "map_grid = Map_Generator(img_size, 416).map_grid\n",
    "xy_wh_rects = convert_xypair_to_xy_wh(map_grid)\n",
    "\n",
    "fig2 = plt.figure()\n",
    "ax2 = fig2.add_subplot(111)\n",
    "ax.axis('auto')\n",
    "\n",
    "for rect in xy_wh_rects:\n",
    "    xy = rect[0]\n",
    "    wh = rect[1]\n",
    "    rectangle = plt.Rectangle(xy, wh[0], wh[1], fill=False, color=\"red\")\n",
    "    ax2.add_patch(rectangle)\n",
    "\n",
    "img_rect = plt.Rectangle((0,0), img_size[0], img_size[1], fill=False, color='blue', )\n",
    "ax2.add_patch(img_rect)\n",
    "\n",
    "ax2.scatter(1000,1000)\n",
    "plt.show()"
   ]
  },
  {
   "cell_type": "code",
   "execution_count": 25,
   "metadata": {},
   "outputs": [
    {
     "name": "stdout",
     "output_type": "stream",
     "text": [
      "[[[(0, 0), (500, 500)], [(0, 500), (500, 1000)], [(0, 1000), (500, 1500)], [(500, 0), (1000, 500)], [(500, 500), (1000, 1000)], [(500, 1000), (1000, 1500)], [(1000, 0), (1500, 500)], [(1000, 500), (1500, 1000)], [(1000, 1000), (1500, 1500)], [(1500, 0), (2000, 500)], [(1500, 500), (2000, 1000)], [(1500, 1000), (2000, 1500)]], [[(250, 250), (750, 750)], [(250, 750), (750, 1250)], [(750, 250), (1250, 750)], [(750, 750), (1250, 1250)], [(1250, 250), (1750, 750)], [(1250, 750), (1750, 1250)], [(1750, 250), (2250, 750)], [(1750, 750), (2250, 1250)]], [[(250, 0), (750, 500)], [(250, 500), (750, 1000)], [(750, 0), (1250, 500)], [(750, 500), (1250, 1000)], [(1250, 0), (1750, 500)], [(1250, 500), (1750, 1000)]], [[(0, 250), (500, 750)], [(500, 250), (1000, 750)], [(1000, 250), (1500, 750)]]]\n"
     ]
    },
    {
     "ename": "NameError",
     "evalue": "name 'plt' is not defined",
     "output_type": "error",
     "traceback": [
      "\u001b[0;31m---------------------------------------------------------------------------\u001b[0m",
      "\u001b[0;31mNameError\u001b[0m                                 Traceback (most recent call last)",
      "\u001b[0;32m<ipython-input-25-92e4a88b21a6>\u001b[0m in \u001b[0;36m<module>\u001b[0;34m\u001b[0m\n\u001b[1;32m      7\u001b[0m \u001b[0;34m\u001b[0m\u001b[0m\n\u001b[1;32m      8\u001b[0m \u001b[0;34m\u001b[0m\u001b[0m\n\u001b[0;32m----> 9\u001b[0;31m \u001b[0mfig2\u001b[0m \u001b[0;34m=\u001b[0m \u001b[0mplt\u001b[0m\u001b[0;34m.\u001b[0m\u001b[0mfigure\u001b[0m\u001b[0;34m(\u001b[0m\u001b[0mfigsize\u001b[0m\u001b[0;34m=\u001b[0m\u001b[0;34m(\u001b[0m\u001b[0;36m15\u001b[0m\u001b[0;34m,\u001b[0m\u001b[0;36m12\u001b[0m\u001b[0;34m)\u001b[0m\u001b[0;34m)\u001b[0m\u001b[0;34m\u001b[0m\u001b[0;34m\u001b[0m\u001b[0m\n\u001b[0m\u001b[1;32m     10\u001b[0m \u001b[0max2\u001b[0m \u001b[0;34m=\u001b[0m \u001b[0mfig2\u001b[0m\u001b[0;34m.\u001b[0m\u001b[0madd_subplot\u001b[0m\u001b[0;34m(\u001b[0m\u001b[0;36m111\u001b[0m\u001b[0;34m)\u001b[0m\u001b[0;34m\u001b[0m\u001b[0;34m\u001b[0m\u001b[0m\n\u001b[1;32m     11\u001b[0m \u001b[0;34m\u001b[0m\u001b[0m\n",
      "\u001b[0;31mNameError\u001b[0m: name 'plt' is not defined"
     ]
    }
   ],
   "source": [
    "map_grids = Map_Generator(img_size, 500).paired_grid\n",
    "print(map_grids)\n",
    "grid1 = map_grids[1]\n",
    "grid2 = map_grids[2]\n",
    "grid3 = map_grids[3]\n",
    "grid0 = map_grids[0]\n",
    "\n",
    "\n",
    "fig2 = plt.figure(figsize=(15,12))\n",
    "ax2 = fig2.add_subplot(111)\n",
    "\n",
    "ax2.axis('auto')\n",
    "\n",
    "def add_pathces(grid, ax, color=\"r\", alpha=1):\n",
    "    xywh = convert_xypair_to_xy_wh(grid)\n",
    "    for rect in xywh:\n",
    "        xy = rect[0]\n",
    "        wh = rect[1]\n",
    "        rectangle = plt.Rectangle(xy, wh[0], wh[1], color=color, alpha=alpha)\n",
    "        ax.add_patch(rectangle)\n",
    "\n",
    "#add_pathces(grid0, ax2, color=\"r\", alpha=0.1)\n",
    "add_pathces(grid1, ax2, color=\"pink\", alpha = 0.5)\n",
    "add_pathces(grid2, ax2, color=\"green\", alpha = 0.1)\n",
    "add_pathces(grid3, ax2, color=\"purple\", alpha = 0.1)\n",
    "\n",
    "img_rect = plt.Rectangle((0,0), img_size[0], img_size[1], fill=False, color='blue', )\n",
    "ax2.add_patch(img_rect)\n",
    "\n",
    "ax2.scatter(1000,1000)\n",
    "plt.show()"
   ]
  },
  {
   "cell_type": "code",
   "execution_count": 26,
   "metadata": {},
   "outputs": [
    {
     "ename": "NameError",
     "evalue": "name 'plt' is not defined",
     "output_type": "error",
     "traceback": [
      "\u001b[0;31m---------------------------------------------------------------------------\u001b[0m",
      "\u001b[0;31mNameError\u001b[0m                                 Traceback (most recent call last)",
      "\u001b[0;32m<ipython-input-26-7b04de18a34f>\u001b[0m in \u001b[0;36m<module>\u001b[0;34m\u001b[0m\n\u001b[1;32m      8\u001b[0m \u001b[0;34m\u001b[0m\u001b[0m\n\u001b[1;32m      9\u001b[0m \u001b[0;34m\u001b[0m\u001b[0m\n\u001b[0;32m---> 10\u001b[0;31m \u001b[0mfig2\u001b[0m \u001b[0;34m=\u001b[0m \u001b[0mplt\u001b[0m\u001b[0;34m.\u001b[0m\u001b[0mfigure\u001b[0m\u001b[0;34m(\u001b[0m\u001b[0mfigsize\u001b[0m\u001b[0;34m=\u001b[0m\u001b[0;34m(\u001b[0m\u001b[0;36m12\u001b[0m\u001b[0;34m,\u001b[0m\u001b[0;36m6\u001b[0m\u001b[0;34m)\u001b[0m\u001b[0;34m)\u001b[0m\u001b[0;34m\u001b[0m\u001b[0;34m\u001b[0m\u001b[0m\n\u001b[0m\u001b[1;32m     11\u001b[0m \u001b[0max2\u001b[0m \u001b[0;34m=\u001b[0m \u001b[0mfig2\u001b[0m\u001b[0;34m.\u001b[0m\u001b[0madd_subplot\u001b[0m\u001b[0;34m(\u001b[0m\u001b[0;36m111\u001b[0m\u001b[0;34m)\u001b[0m\u001b[0;34m\u001b[0m\u001b[0;34m\u001b[0m\u001b[0m\n\u001b[1;32m     12\u001b[0m \u001b[0max2\u001b[0m\u001b[0;34m.\u001b[0m\u001b[0maxis\u001b[0m\u001b[0;34m(\u001b[0m\u001b[0;34m'auto'\u001b[0m\u001b[0;34m)\u001b[0m\u001b[0;34m\u001b[0m\u001b[0;34m\u001b[0m\u001b[0m\n",
      "\u001b[0;31mNameError\u001b[0m: name 'plt' is not defined"
     ]
    }
   ],
   "source": [
    "### now graphing to find optimal cut size to minimize grid count\n",
    "def get_grid_count(img_size, cut_size):\n",
    "    map_grid = Map_Generator(img_size, cut_size)\n",
    "    all_grids = map_grid.map_grid\n",
    "    single_grid = map_grid.paired_grid[0]\n",
    "    \n",
    "    return(len(all_grids), len(single_grid))\n",
    "    \n",
    "\n",
    "fig2 = plt.figure(figsize=(12,6))\n",
    "ax2 = fig2.add_subplot(111)\n",
    "ax2.axis('auto')\n",
    "ax2.set_title(\"Comparison of Image Process Methods -- Cut Count per Cut Size\")\n",
    "ax2.set_xlabel(\"Image Cut Size (px)\")\n",
    "ax2.set_ylabel(\"Total Number of Image Cuts\")\n",
    "\n",
    "scattered = []\n",
    "single = []\n",
    "for cut_size in range(200,616,1):\n",
    "    scat, sing = get_grid_count((1080,1920), cut_size)\n",
    "    scattered.append((cut_size, scat))\n",
    "    single.append((cut_size, sing))\n",
    "\n",
    "#scattered\n",
    "scat_xs = [n[0] for n in scattered]\n",
    "scat_ys = [n[1] for n in scattered]\n",
    "\n",
    "#single\n",
    "sing_xs = [n[0] for n in single]\n",
    "sing_ys = [n[1] for n in single]\n",
    "\n",
    "#plot\n",
    "ax2.plot(scat_xs, scat_ys, color = 'red', label=\"Grid-Method\")\n",
    "ax2.plot(sing_xs, sing_ys, color = 'b', label=\"Standard-Method\")\n",
    "ax2.legend()"
   ]
  },
  {
   "cell_type": "code",
   "execution_count": 27,
   "metadata": {},
   "outputs": [
    {
     "ename": "NameError",
     "evalue": "name 'plt' is not defined",
     "output_type": "error",
     "traceback": [
      "\u001b[0;31m---------------------------------------------------------------------------\u001b[0m",
      "\u001b[0;31mNameError\u001b[0m                                 Traceback (most recent call last)",
      "\u001b[0;32m<ipython-input-27-8fb482aab102>\u001b[0m in \u001b[0;36m<module>\u001b[0;34m\u001b[0m\n\u001b[0;32m----> 1\u001b[0;31m \u001b[0mfig2\u001b[0m \u001b[0;34m=\u001b[0m \u001b[0mplt\u001b[0m\u001b[0;34m.\u001b[0m\u001b[0mfigure\u001b[0m\u001b[0;34m(\u001b[0m\u001b[0mfigsize\u001b[0m\u001b[0;34m=\u001b[0m\u001b[0;34m(\u001b[0m\u001b[0;36m12\u001b[0m\u001b[0;34m,\u001b[0m\u001b[0;36m6\u001b[0m\u001b[0;34m)\u001b[0m\u001b[0;34m)\u001b[0m\u001b[0;34m\u001b[0m\u001b[0;34m\u001b[0m\u001b[0m\n\u001b[0m\u001b[1;32m      2\u001b[0m \u001b[0max2\u001b[0m \u001b[0;34m=\u001b[0m \u001b[0mfig2\u001b[0m\u001b[0;34m.\u001b[0m\u001b[0madd_subplot\u001b[0m\u001b[0;34m(\u001b[0m\u001b[0;36m111\u001b[0m\u001b[0;34m)\u001b[0m\u001b[0;34m\u001b[0m\u001b[0;34m\u001b[0m\u001b[0m\n\u001b[1;32m      3\u001b[0m \u001b[0max2\u001b[0m\u001b[0;34m.\u001b[0m\u001b[0maxis\u001b[0m\u001b[0;34m(\u001b[0m\u001b[0;34m'auto'\u001b[0m\u001b[0;34m)\u001b[0m\u001b[0;34m\u001b[0m\u001b[0;34m\u001b[0m\u001b[0m\n\u001b[1;32m      4\u001b[0m \u001b[0max2\u001b[0m\u001b[0;34m.\u001b[0m\u001b[0mset_title\u001b[0m\u001b[0;34m(\u001b[0m\u001b[0;34m\"Comparison of Image Process Methods -- Area Processed per Cut Size\"\u001b[0m\u001b[0;34m)\u001b[0m\u001b[0;34m\u001b[0m\u001b[0;34m\u001b[0m\u001b[0m\n\u001b[1;32m      5\u001b[0m \u001b[0max2\u001b[0m\u001b[0;34m.\u001b[0m\u001b[0mset_xlabel\u001b[0m\u001b[0;34m(\u001b[0m\u001b[0;34m\"Image Cut Size (px)\"\u001b[0m\u001b[0;34m)\u001b[0m\u001b[0;34m\u001b[0m\u001b[0;34m\u001b[0m\u001b[0m\n",
      "\u001b[0;31mNameError\u001b[0m: name 'plt' is not defined"
     ]
    }
   ],
   "source": [
    "fig2 = plt.figure(figsize=(12,6))\n",
    "ax2 = fig2.add_subplot(111)\n",
    "ax2.axis('auto')\n",
    "ax2.set_title(\"Comparison of Image Process Methods -- Area Processed per Cut Size\")\n",
    "ax2.set_xlabel(\"Image Cut Size (px)\")\n",
    "ax2.set_ylabel(\"Area to be Processed (px^2)\")\n",
    "\n",
    "scattered = []\n",
    "single = []\n",
    "for cut_size in range(200,616,1):\n",
    "    scat, sing = get_grid_count((1080,1440), cut_size)\n",
    "    scat_area = (cut_size^2) * scat\n",
    "    sing_area = (cut_size^2) * sing\n",
    "    \n",
    "    scattered.append((cut_size, scat_area))\n",
    "    single.append((cut_size, sing_area))\n",
    "\n",
    "    #single\n",
    "sing_xs = [n[0] for n in single]\n",
    "sing_ys = [n[1] for n in single]\n",
    "\n",
    "#scattered\n",
    "scat_xs = [n[0] for n in scattered]\n",
    "scat_ys = [n[1] for n in scattered]\n",
    "\n",
    "#plot\n",
    "ax2.plot(scat_xs, scat_ys, color = 'red', label=\"Grid-Method\")\n",
    "ax2.plot(sing_xs, sing_ys, color = 'b', label=\"Standard-Method\")\n",
    "ax2.legend()"
   ]
  },
  {
   "cell_type": "code",
   "execution_count": 28,
   "metadata": {},
   "outputs": [
    {
     "ename": "NameError",
     "evalue": "name 'dict_info' is not defined",
     "output_type": "error",
     "traceback": [
      "\u001b[0;31m---------------------------------------------------------------------------\u001b[0m",
      "\u001b[0;31mNameError\u001b[0m                                 Traceback (most recent call last)",
      "\u001b[0;32m<ipython-input-28-655946711163>\u001b[0m in \u001b[0;36m<module>\u001b[0;34m\u001b[0m\n\u001b[0;32m----> 1\u001b[0;31m \u001b[0mdict_info\u001b[0m\u001b[0;34m\u001b[0m\u001b[0;34m\u001b[0m\u001b[0m\n\u001b[0m",
      "\u001b[0;31mNameError\u001b[0m: name 'dict_info' is not defined"
     ]
    }
   ],
   "source": [
    "dict_info"
   ]
  },
  {
   "cell_type": "code",
   "execution_count": null,
   "metadata": {},
   "outputs": [],
   "source": []
  },
  {
   "cell_type": "code",
   "execution_count": null,
   "metadata": {},
   "outputs": [],
   "source": []
  }
 ],
 "metadata": {
  "kernelspec": {
   "display_name": "Python 3",
   "language": "python",
   "name": "python3"
  },
  "language_info": {
   "codemirror_mode": {
    "name": "ipython",
    "version": 3
   },
   "file_extension": ".py",
   "mimetype": "text/x-python",
   "name": "python",
   "nbconvert_exporter": "python",
   "pygments_lexer": "ipython3",
   "version": "3.9.13"
  }
 },
 "nbformat": 4,
 "nbformat_minor": 4
}
